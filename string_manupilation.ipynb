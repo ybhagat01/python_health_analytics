{
 "cells": [
  {
   "cell_type": "code",
   "execution_count": 32,
   "id": "f6346e75-cce9-404e-8ffd-e7fefff6b734",
   "metadata": {},
   "outputs": [
    {
     "name": "stdout",
     "output_type": "stream",
     "text": [
      "Problem 1\n"
     ]
    },
    {
     "name": "stdin",
     "output_type": "stream",
     "text": [
      "Enter your name: Yuti\n"
     ]
    },
    {
     "name": "stdout",
     "output_type": "stream",
     "text": [
      "Hello, Yuti. Hope you are doing well today!\n",
      "\n",
      "Problem 2\n"
     ]
    },
    {
     "name": "stdin",
     "output_type": "stream",
     "text": [
      "Enter a word: Health\n"
     ]
    },
    {
     "name": "stdout",
     "output_type": "stream",
     "text": [
      "Reversed:  htlaeH\n",
      "\n",
      "Problem 3\n"
     ]
    },
    {
     "name": "stdin",
     "output_type": "stream",
     "text": [
      "Enter a sentence: Yuti likes studying biology\n"
     ]
    },
    {
     "name": "stdout",
     "output_type": "stream",
     "text": [
      "The sentence has 27 characters.\n",
      "\n",
      "Problem 4\n"
     ]
    },
    {
     "name": "stdin",
     "output_type": "stream",
     "text": [
      "Enter a word or a sentence: apple pie\n"
     ]
    },
    {
     "name": "stdout",
     "output_type": "stream",
     "text": [
      "There are 4 vowels.\n",
      "\n",
      "Problem 5\n"
     ]
    },
    {
     "name": "stdin",
     "output_type": "stream",
     "text": [
      "Enter a word: madam\n"
     ]
    },
    {
     "name": "stdout",
     "output_type": "stream",
     "text": [
      "The word is a palindrome.\n",
      "Problem 6\n"
     ]
    },
    {
     "name": "stdin",
     "output_type": "stream",
     "text": [
      "Enter your secret message: its a secret\n"
     ]
    },
    {
     "name": "stdout",
     "output_type": "stream",
     "text": [
      "ITS_A_SECRET\n"
     ]
    }
   ],
   "source": [
    "print(\"Problem 1\")\n",
    "name = input(\"Enter your name:\")\n",
    "print(\"Hello, \"+ name + \". Hope you are doing well today!\\n\")\n",
    "\n",
    "print(\"Problem 2\")\n",
    "s1 = input(\"Enter a word:\")\n",
    "print(\"Reversed: \", s1[::-1])\n",
    "print(\"\")\n",
    "\n",
    "print(\"Problem 3\")\n",
    "s2 = input(\"Enter a sentence:\")\n",
    "print(\"The sentence has\",len(s2),\"characters.\\n\")\n",
    "print(\"Problem 4\")\n",
    "s3 = input(\"Enter a word or a sentence:\")\n",
    "a = s3.count('a')\n",
    "e = s3.count('e')\n",
    "i = s3.count('i')\n",
    "o = s3.count('o')\n",
    "u = s3.count('u')\n",
    "vowels = str(a+e+i+o+u)\n",
    "print(\"There are \"+ vowels+ \" vowels.\\n\" )\n",
    "\n",
    "print(\"Problem 5\")\n",
    "s4 = input(\"Enter a word:\")\n",
    "a = s4[0:]\n",
    "b = s4[::-1]\n",
    "if (a==b):\n",
    "    print(\"The word is a palindrome.\")\n",
    "else:\n",
    "    print(\"The word is not a palindorme.\\n\")\n",
    "\n",
    "print(\"Problem 6\")\n",
    "s5 = input(\"Enter your secret message:\")\n",
    "print(s5.replace(\" \",\"_\").upper())"
   ]
  },
  {
   "cell_type": "code",
   "execution_count": null,
   "id": "f4ed0a76-f3e6-49ac-be4f-a7a61be9ed71",
   "metadata": {},
   "outputs": [],
   "source": []
  }
 ],
 "metadata": {
  "kernelspec": {
   "display_name": "Python 3 (ipykernel)",
   "language": "python",
   "name": "python3"
  },
  "language_info": {
   "codemirror_mode": {
    "name": "ipython",
    "version": 3
   },
   "file_extension": ".py",
   "mimetype": "text/x-python",
   "name": "python",
   "nbconvert_exporter": "python",
   "pygments_lexer": "ipython3",
   "version": "3.13.5"
  }
 },
 "nbformat": 4,
 "nbformat_minor": 5
}
