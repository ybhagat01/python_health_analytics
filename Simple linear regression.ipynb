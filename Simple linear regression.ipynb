{
 "cells": [
  {
   "cell_type": "code",
   "execution_count": 1,
   "id": "66930e38-6436-496f-8fed-36be709889f5",
   "metadata": {},
   "outputs": [
    {
     "name": "stdout",
     "output_type": "stream",
     "text": [
      "The avergae value is  77.64\n"
     ]
    }
   ],
   "source": [
    "data_points = {\n",
    "    2000:72.5,\n",
    "    2001:73.1,\n",
    "    2002:73.8,\n",
    "    2003:74.2,\n",
    "    2004:74.7,\n",
    "    2005:75.3,\n",
    "    2006:75.9,\n",
    "    2007:76.5,\n",
    "    2008:76.9,\n",
    "    2009:77.4,\n",
    "    2010:78.0,\n",
    "    2011:78.5,\n",
    "    2012:79.0,\n",
    "    2013:79.5,\n",
    "    2014:80.0,\n",
    "    2015:80.5,\n",
    "    2016:81.0,\n",
    "    2017:81.5,\n",
    "    2018:82.0,\n",
    "    2019:82.5\n",
    "}\n",
    "def calculate_mean(data):\n",
    "    points = []\n",
    "    for year, point in data_points.items():\n",
    "        points.append(point)\n",
    "        mean_value = sum(points)/len(points)\n",
    "    return mean_value\n",
    "mean_value = calculate_mean(data_points)\n",
    "print(\"The avergae value is \", mean_value)"
   ]
  },
  {
   "cell_type": "code",
   "execution_count": 5,
   "id": "6b8a5a4b-07b9-4785-89eb-8d3943ca784d",
   "metadata": {},
   "outputs": [
    {
     "name": "stdout",
     "output_type": "stream",
     "text": [
      "Slope=  0.5221052631578948\n",
      "Intercept=  -971.5305263157896\n"
     ]
    }
   ],
   "source": [
    "def calculate_regression_coefficients(data_points):\n",
    "    X=[]\n",
    "    Y=[]\n",
    "    for x,y in data_points.items():\n",
    "        X.append(x)\n",
    "        Y.append(y)\n",
    "        x_mean = sum(X)/len(X)\n",
    "        y_mean = sum(Y)/len(Y)\n",
    "        n = 0\n",
    "        d = 0\n",
    "    for i in range(len(X)):\n",
    "        n += (X[i]-x_mean)*(Y[i]-y_mean)\n",
    "        d += (X[i]-x_mean)**2\n",
    "        m = n/d\n",
    "        intercept = y_mean - (m*x_mean)\n",
    "    return m, intercept\n",
    "    \n",
    "m, intercept = calculate_regression_coefficients(data_points)\n",
    "print(\"Slope= \", m)\n",
    "print(\"Intercept= \", intercept)"
   ]
  },
  {
   "cell_type": "code",
   "execution_count": 4,
   "id": "5f165eda-41df-4e89-8c91-89cd98ca84a6",
   "metadata": {},
   "outputs": [
    {
     "name": "stdin",
     "output_type": "stream",
     "text": [
      "Enter a new x-value:  2024\n"
     ]
    },
    {
     "name": "stdout",
     "output_type": "stream",
     "text": [
      "The predicted y-value for the given x-value is  85.21052631578948\n"
     ]
    }
   ],
   "source": [
    "def make_predictions(data_points, m, intercept):\n",
    "    new_x = float(input(\"Enter a new x-value: \"))\n",
    "    predicted_y = m * new_x + intercept\n",
    "    return predicted_y\n",
    "predicted_y = make_predictions(data_points, m, intercept)\n",
    "print(\"The predicted y-value for the given x-value is \", predicted_y)"
   ]
  }
 ],
 "metadata": {
  "kernelspec": {
   "display_name": "Python 3 (ipykernel)",
   "language": "python",
   "name": "python3"
  },
  "language_info": {
   "codemirror_mode": {
    "name": "ipython",
    "version": 3
   },
   "file_extension": ".py",
   "mimetype": "text/x-python",
   "name": "python",
   "nbconvert_exporter": "python",
   "pygments_lexer": "ipython3",
   "version": "3.13.5"
  }
 },
 "nbformat": 4,
 "nbformat_minor": 5
}
