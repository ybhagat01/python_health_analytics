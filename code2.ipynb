{
 "cells": [
  {
   "cell_type": "code",
   "execution_count": 26,
   "id": "1d799ee6-5c8e-46ab-a7a9-8815814b20db",
   "metadata": {},
   "outputs": [
    {
     "name": "stdin",
     "output_type": "stream",
     "text": [
      "Enter patient's temperature in Farenheit: b\n"
     ]
    },
    {
     "name": "stdout",
     "output_type": "stream",
     "text": [
      "Invalid input. Please enter input appropriate for temperature.\n"
     ]
    }
   ],
   "source": [
    "temperature = input(\"Enter patient's temperature in Farenheit:\")\n",
    "if temperature.replace(\".\", \"\", 1).isdigit():\n",
    "    temp = float(temperature)\n",
    "    if (temp>=99.5):\n",
    "        print (\"The patient has a high temperature\")\n",
    "    else:\n",
    "        print (\"The patient has a normal temperature\")\n",
    "else:\n",
    "    print(\"Invalid input. Please enter input appropriate for temperature.\")"
   ]
  },
  {
   "cell_type": "code",
   "execution_count": null,
   "id": "07b08c0b-508e-47d1-bf21-b0717253b204",
   "metadata": {},
   "outputs": [],
   "source": []
  }
 ],
 "metadata": {
  "kernelspec": {
   "display_name": "Python 3 (ipykernel)",
   "language": "python",
   "name": "python3"
  },
  "language_info": {
   "codemirror_mode": {
    "name": "ipython",
    "version": 3
   },
   "file_extension": ".py",
   "mimetype": "text/x-python",
   "name": "python",
   "nbconvert_exporter": "python",
   "pygments_lexer": "ipython3",
   "version": "3.13.5"
  }
 },
 "nbformat": 4,
 "nbformat_minor": 5
}
