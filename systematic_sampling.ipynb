{
 "cells": [
  {
   "cell_type": "code",
   "execution_count": 3,
   "id": "217f4ecf-7cff-4dfa-a2f2-8c9443be7d16",
   "metadata": {},
   "outputs": [
    {
     "name": "stdin",
     "output_type": "stream",
     "text": [
      "Enter population size:  1500\n",
      "Enter confidence level (80,85,90,95,98 or 99):  99\n",
      "Enter desired margin of error:  0.10\n"
     ]
    },
    {
     "name": "stdout",
     "output_type": "stream",
     "text": [
      "Z-score used: 2.576\n",
      "Calulated sample size:  165.8944\n"
     ]
    },
    {
     "name": "stdin",
     "output_type": "stream",
     "text": [
      "Enter desired sample size you want: 50\n"
     ]
    },
    {
     "name": "stdout",
     "output_type": "stream",
     "text": [
      "Systematic sample selected:  [1, 31, 61, 91, 121, 151, 181, 211, 241, 271, 301, 331, 361, 391, 421, 451, 481, 511, 541, 571, 601, 631, 661, 691, 721, 751, 781, 811, 841, 871, 901, 931, 961, 991, 1021, 1051, 1081, 1111, 1141, 1171, 1201, 1231, 1261, 1291, 1321, 1351, 1381, 1411, 1441, 1471]\n"
     ]
    }
   ],
   "source": [
    "def sample_size(p,Z,E):\n",
    "    s = (Z**2*p*(1-p))/(E**2)\n",
    "    return s\n",
    "\n",
    "p = 0.5\n",
    "P = int(input(\"Enter population size: \"))\n",
    "C = int(input(\"Enter confidence level (80,85,90,95,98 or 99): \"))\n",
    "E = float(input(\"Enter desired margin of error: \"))\n",
    "\n",
    "z ={80:1.28, 85:1.44, 90:1.645, 95:1.96, 98:2.33, 99:2.576}\n",
    "Z= z.get(C, 1.96)\n",
    "print(\"Z-score used:\", Z)\n",
    "\n",
    "s = sample_size(p, Z,E)\n",
    "print(\"Calulated sample size: \", s)\n",
    "\n",
    "S = int(input(\"Enter desired sample size you want:\"))\n",
    "while S > s:\n",
    "    print(\"The desired sample size is not feasible given the population size, confidence level and marging of error.\")\n",
    "    S = int(input(\"Please enter a lower desired sample size value: \"))\n",
    "sp = list(range(1,P+1))\n",
    "k = int(P//S)\n",
    "sample = []\n",
    "for ss in range (0,P,k):\n",
    "    sample.append(sp[ss])\n",
    "print (\"Systematic sample selected: \", sample)"
   ]
  },
  {
   "cell_type": "code",
   "execution_count": null,
   "id": "725307b3-c63e-4ad3-b975-203ae931331f",
   "metadata": {},
   "outputs": [],
   "source": []
  }
 ],
 "metadata": {
  "kernelspec": {
   "display_name": "Python 3 (ipykernel)",
   "language": "python",
   "name": "python3"
  },
  "language_info": {
   "codemirror_mode": {
    "name": "ipython",
    "version": 3
   },
   "file_extension": ".py",
   "mimetype": "text/x-python",
   "name": "python",
   "nbconvert_exporter": "python",
   "pygments_lexer": "ipython3",
   "version": "3.13.5"
  }
 },
 "nbformat": 4,
 "nbformat_minor": 5
}
