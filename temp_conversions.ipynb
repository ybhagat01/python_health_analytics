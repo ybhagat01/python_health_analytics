{
 "cells": [
  {
   "cell_type": "code",
   "execution_count": 12,
   "id": "5a429816-6de2-4f1b-8db4-13b7f8adc4d7",
   "metadata": {},
   "outputs": [
    {
     "name": "stdin",
     "output_type": "stream",
     "text": [
      "Choose a conversion method (c or f): f\n",
      "Enter the temperature in Farenheit: 32\n"
     ]
    },
    {
     "name": "stdout",
     "output_type": "stream",
     "text": [
      "32.0 degrees in Farenheit is equal to  0.0 degrees in Celsius.\n"
     ]
    }
   ],
   "source": [
    "def celsius_to_farenheit(c):\n",
    "    F1 = (c*9/5)+32\n",
    "    return F1\n",
    "def farenheit_to_celsius(f):\n",
    "    F2 = (f-32)*5/9\n",
    "    return F2\n",
    "value = input(\"Choose a conversion method (c or f):\")\n",
    "if (value=='c'or value=='C'):\n",
    "    temp1 = float(input(\"Enter the temperature in Celsius:\"))\n",
    "    print(temp1, \"degrees in Celsius is equal to \", celsius_to_farenheit(temp1), \"degrees in Farenheit.\")\n",
    "else:\n",
    "    temp2 = float(input(\"Enter the temperature in Farenheit:\"))\n",
    "    print(temp2,\"degrees in Farenheit is equal to \" , farenheit_to_celsius(temp2), \"degrees in Celsius.\")"
   ]
  },
  {
   "cell_type": "code",
   "execution_count": null,
   "id": "74cdc74d-9f1c-4001-bb06-556cd691d066",
   "metadata": {},
   "outputs": [],
   "source": []
  }
 ],
 "metadata": {
  "kernelspec": {
   "display_name": "Python 3 (ipykernel)",
   "language": "python",
   "name": "python3"
  },
  "language_info": {
   "codemirror_mode": {
    "name": "ipython",
    "version": 3
   },
   "file_extension": ".py",
   "mimetype": "text/x-python",
   "name": "python",
   "nbconvert_exporter": "python",
   "pygments_lexer": "ipython3",
   "version": "3.13.5"
  }
 },
 "nbformat": 4,
 "nbformat_minor": 5
}
