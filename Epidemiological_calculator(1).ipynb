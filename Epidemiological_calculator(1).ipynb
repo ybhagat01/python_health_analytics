{
 "cells": [
  {
   "cell_type": "code",
   "execution_count": 2,
   "id": "322711d4-a052-4370-bba8-1a594cbf4684",
   "metadata": {},
   "outputs": [
    {
     "name": "stdout",
     "output_type": "stream",
     "text": [
      "no.1 HepatitiesA\n",
      "population: 1.78 million\n"
     ]
    },
    {
     "name": "stdin",
     "output_type": "stream",
     "text": [
      "new cases: 19\n"
     ]
    },
    {
     "name": "stdout",
     "output_type": "stream",
     "text": [
      "a. prevalence:44.94 per million\n",
      "b. incidence:10.67 per million\n",
      "c. mortality rate:1.12 per million\n",
      "d. years of potential life lost:16 years\n"
     ]
    }
   ],
   "source": [
    "print (\"no.1 HepatitiesA in Hillsborough County\")\n",
    "population = 1.78\n",
    "print(\"population:\", population, \"million\")\n",
    "existingcases = 80\n",
    "newcases = int(input(\"new cases:\"))\n",
    "deaths = 2\n",
    "prevalence = (existingcases/population)\n",
    "print(f\"a. prevalence:{prevalence:.2f} per million\")\n",
    "incidence = (newcases/population)\n",
    "print(f\"b. incidence:{incidence:.2f} per million\")\n",
    "mortality_rate = (deaths/population)\n",
    "print(f\"c. mortality rate:{mortality_rate:.2f} per million\")\n",
    "age_death1 = 64\n",
    "age_death2 = 74\n",
    "life_expectancy = 77\n",
    "llp1 = (life_expectancy - age_death1)\n",
    "llp2 = (life_expectancy - age_death2)\n",
    "ypll = (llp1 + llp2)\n",
    "print(f\"d. years of potential life lost:{ypll:} years\")"
   ]
  },
  {
   "cell_type": "code",
   "execution_count": 106,
   "id": "d3615dfc-bd9b-4754-8305-c136d2c2108c",
   "metadata": {},
   "outputs": [
    {
     "name": "stdout",
     "output_type": "stream",
     "text": [
      "no.2 Salmonella cases in Miami\n",
      "population: 2.66 million\n",
      "existing cases: 1211\n"
     ]
    },
    {
     "name": "stdin",
     "output_type": "stream",
     "text": [
      "new cases: 248\n"
     ]
    },
    {
     "name": "stdout",
     "output_type": "stream",
     "text": [
      "deaths 1\n",
      "a. prevalence:455.26 per 100,000\n",
      "b. incidence:93.23 per 100,000\n",
      "c. mortality_rate:0.38\n"
     ]
    }
   ],
   "source": [
    "print (\"no.2 Salmonella cases in Miami\")\n",
    "Population = 2.66\n",
    "print (\"population:\",Population,\"million\")\n",
    "existing_cases = 1211\n",
    "print(\"existing cases:\", existing_cases)\n",
    "new_cases = int(input(\"new cases:\"))\n",
    "death = 1\n",
    "print (\"deaths\", death)\n",
    "prevalence_of_salmonella = (existing_cases/Population)\n",
    "print (f\"a. prevalence:{prevalence_of_salmonella:.2f} per 100,000\")\n",
    "incidence_of_salmonella = (new_cases/Population)\n",
    "print (f\"b. incidence:{incidence_of_salmonella:.2f} per 100,000\")\n",
    "mortality_rate_of_salmonella = (death/Population)\n",
    "print(f\"c. mortality_rate:{mortality_rate_of_salmonella:.2f}\")"
   ]
  },
  {
   "cell_type": "code",
   "execution_count": 107,
   "id": "42c84d23-2389-4a5d-bbb5-3f0dc5904544",
   "metadata": {},
   "outputs": [
    {
     "name": "stdout",
     "output_type": "stream",
     "text": [
      "no.3 Influenza cases \n",
      "population: 1 million\n",
      "existing cases: 500\n"
     ]
    },
    {
     "name": "stdin",
     "output_type": "stream",
     "text": [
      "new cases: 2500\n"
     ]
    },
    {
     "name": "stdout",
     "output_type": "stream",
     "text": [
      "deaths: 40\n",
      "a. prevalence:500.00 per million\n",
      "b. incidence:2500.00 per million\n",
      "c. mortality_rate:40.00 per million\n"
     ]
    }
   ],
   "source": [
    "print (\"no.3 Influenza cases \")\n",
    "POPULATION = 1\n",
    "print (\"population:\",POPULATION, \"million\")\n",
    "EXISTINGCASES = 500\n",
    "print(\"existing cases:\",EXISTINGCASES)\n",
    "NEWCASES = int(input(\"new cases:\"))\n",
    "DEATH = 40 \n",
    "print (\"deaths:\", DEATH)\n",
    "PREVALENCE = (EXISTINGCASES/POPULATION)\n",
    "print(f\"a. prevalence:{PREVALENCE:.2F} per million\")\n",
    "INCIDENCE = (NEWCASES/POPULATION)\n",
    "print(f\"b. incidence:{INCIDENCE:.2F} per million\")\n",
    "MORTALITY_RATE = (DEATH/POPULATION)\n",
    "print(f\"c. mortality_rate:{MORTALITY_RATE:.2F} per million\")"
   ]
  },
  {
   "cell_type": "code",
   "execution_count": 3,
   "id": "65aa9453-d434-4da1-b20f-534fd391c99b",
   "metadata": {},
   "outputs": [
    {
     "name": "stdout",
     "output_type": "stream",
     "text": [
      "no.4 Chlamydia in Hillsborough County\n",
      "population: 1.78 million\n",
      "existing cases 12000\n"
     ]
    },
    {
     "name": "stdin",
     "output_type": "stream",
     "text": [
      "new cases: 3000\n"
     ]
    },
    {
     "name": "stdout",
     "output_type": "stream",
     "text": [
      "deaths: 5\n",
      "a. prevalence:6741.57 per million\n",
      "b. incidence:1685.39 per million\n",
      "c. mortality rate:2.81 per million\n",
      "d. potential years of life lost:188 years\n"
     ]
    }
   ],
   "source": [
    "print(\"no.4 Chlamydia in Hillsborough County\")\n",
    "POPulation = 1.78\n",
    "print (\"population:\", POPulation, \"million\")\n",
    "Existing_cases = 12000\n",
    "print (\"existing cases\", Existing_cases)\n",
    "New_cases = int(input(\"new cases:\"))\n",
    "Death = 5 \n",
    "print(\"deaths:\", Death)\n",
    "prevalence_of_chlamydia = (Existing_cases/POPulation)\n",
    "print (f\"a. prevalence:{prevalence_of_chlamydia:.2f} per million\")\n",
    "incidence_of_chlamydia = (New_cases/POPulation)\n",
    "print(f\"b. incidence:{incidence_of_chlamydia:.2f} per million\")\n",
    "mortality_rate_of_chlamydia = (Death/POPulation)\n",
    "print(f\"c. mortality rate:{mortality_rate_of_chlamydia:.2f} per million\")\n",
    "Death_age1 = 35\n",
    "Death_age2 = 45\n",
    "Death_age3 = 28\n",
    "Death_age4 = 37\n",
    "Death_age5 = 52\n",
    "Life_expectancy = 77\n",
    "pll1 = (Life_expectancy - Death_age1)\n",
    "pll2 = (Life_expectancy - Death_age2)\n",
    "pll3 = (Life_expectancy - Death_age3)\n",
    "pll4 = (Life_expectancy - Death_age4)\n",
    "pll5 = (Life_expectancy - Death_age5)\n",
    "YllP = (pll1+pll2+pll3+pll4+pll5)\n",
    "print(f\"d. potential years of life lost:{YllP:} years\")"
   ]
  },
  {
   "cell_type": "markdown",
   "id": "0dd74918-5c98-4e3e-8a43-712670b885c8",
   "metadata": {},
   "source": []
  }
 ],
 "metadata": {
  "kernelspec": {
   "display_name": "Python 3 (ipykernel)",
   "language": "python",
   "name": "python3"
  },
  "language_info": {
   "codemirror_mode": {
    "name": "ipython",
    "version": 3
   },
   "file_extension": ".py",
   "mimetype": "text/x-python",
   "name": "python",
   "nbconvert_exporter": "python",
   "pygments_lexer": "ipython3",
   "version": "3.13.5"
  }
 },
 "nbformat": 4,
 "nbformat_minor": 5
}
